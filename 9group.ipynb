{
 "cells": [
  {
   "cell_type": "code",
   "execution_count": 83,
   "metadata": {
    "scrolled": true
   },
   "outputs": [
    {
     "name": "stdout",
     "output_type": "stream",
     "text": [
      "Note: you may need to restart the kernel to use updated packages.\n"
     ]
    },
    {
     "name": "stderr",
     "output_type": "stream",
     "text": [
      "ERROR: Could not find a version that satisfies the requirement konlpy.tag (from versions: none)\n",
      "ERROR: No matching distribution found for konlpy.tag\n"
     ]
    }
   ],
   "source": []
  },
  {
   "cell_type": "code",
   "execution_count": 59,
   "metadata": {
    "scrolled": false
   },
   "outputs": [
    {
     "name": "stdout",
     "output_type": "stream",
     "text": [
      "['시험', '발표', '발표2번', '2', '번', '중간', '중간기말대체', '기말', '대체', '감상문', '감상문과제', '과제', '하나', '수업', '인생', '인생조언하나', '조언', '하나', '수', '학점', '비율', '스킬', '하나쯤', '다음', '청강']\n"
     ]
    }
   ],
   "source": [
    "#크롤링\n",
    "\n",
    "from selenium import webdriver\n",
    "from selenium.webdriver.common.keys import Keys\n",
    "from urllib.request import urlopen\n",
    "from bs4 import BeautifulSoup\n",
    "import time \n",
    "from konlpy.tag import Kkma\n",
    "import openpyxl\n",
    "\n",
    "kma = Kkma()\n",
    "#형태소 라이브러리를 kma로 칭함\n",
    "\n",
    "driver = webdriver.Chrome('C:\\chromedriver.exe')\n",
    "#selenium 라이브러리 기본 작업\n",
    "\n",
    "driver.get('https://everytime.kr/login')\n",
    "#크롤링 할 홈페이지 가져오기\n",
    "\n",
    "driver.find_element_by_name(\"userid\").send_keys(\"2geunwoo\")\n",
    "driver.find_element_by_name(\"password\").send_keys(\"kepco123\")\n",
    "driver.find_element_by_tag_name(\"input\").send_keys(Keys.RETURN)\n",
    "#로그인\n",
    "\n",
    "time.sleep(2)\n",
    "driver.find_element_by_xpath('//*[@id=\"container\"]/div[3]/div[4]/div/h3/a').click()\n",
    "\n",
    "time.sleep(4)\n",
    "elem = driver.find_element_by_name('keyword')\n",
    "elem.send_keys('논리적 사고와')\n",
    "elem.submit()\n",
    "\n",
    "time.sleep(2)\n",
    "driver.find_element_by_xpath('//*[@id=\"container\"]/div[1]/a[1]/h3/p').click()\n",
    "#강의평가 페이지로 경로 이동\n",
    "\n",
    "def page():\n",
    "    time.sleep(0.5)\n",
    "    \n",
    "    res = driver.page_source\n",
    "    soup = BeautifulSoup(res, 'html.parser')\n",
    "    data = soup.select('#container > div.side.article > div.articles > article > p.text')\n",
    "    \n",
    "    for datas in data:\n",
    "        return datas.get_text()\n",
    "\n",
    "time.sleep(1)\n",
    "\n",
    "print(kma.nouns(page()))"
   ]
  },
  {
   "cell_type": "code",
   "execution_count": 55,
   "metadata": {},
   "outputs": [],
   "source": []
  },
  {
   "cell_type": "code",
   "execution_count": 16,
   "metadata": {},
   "outputs": [
    {
     "ename": "NameError",
     "evalue": "name 'word' is not defined",
     "output_type": "error",
     "traceback": [
      "\u001b[1;31m---------------------------------------------------------------------------\u001b[0m",
      "\u001b[1;31mNameError\u001b[0m                                 Traceback (most recent call last)",
      "\u001b[1;32m<ipython-input-16-f5f166afc2ee>\u001b[0m in \u001b[0;36m<module>\u001b[1;34m\u001b[0m\n\u001b[1;32m----> 1\u001b[1;33m \u001b[0mword\u001b[0m\u001b[1;33m\u001b[0m\u001b[1;33m\u001b[0m\u001b[0m\n\u001b[0m",
      "\u001b[1;31mNameError\u001b[0m: name 'word' is not defined"
     ]
    }
   ],
   "source": []
  },
  {
   "cell_type": "code",
   "execution_count": null,
   "metadata": {},
   "outputs": [],
   "source": []
  }
 ],
 "metadata": {
  "kernelspec": {
   "display_name": "Python 3",
   "language": "python",
   "name": "python3"
  },
  "language_info": {
   "codemirror_mode": {
    "name": "ipython",
    "version": 3
   },
   "file_extension": ".py",
   "mimetype": "text/x-python",
   "name": "python",
   "nbconvert_exporter": "python",
   "pygments_lexer": "ipython3",
   "version": "3.8.5"
  }
 },
 "nbformat": 4,
 "nbformat_minor": 4
}
# 9group
