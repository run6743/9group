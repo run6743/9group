{
 "cells": [
  {
   "cell_type": "code",
   "execution_count": null,
   "metadata": {},
   "outputs": [],
   "source": [
    "#크롤링\n",
    "\n",
    "from selenium import webdriver\n",
    "from selenium.webdriver.common.keys import Keys\n",
    "from urllib.request import urlopen\n",
    "from bs4 import BeautifulSoup\n",
    "import time \n",
    "from konlpy.tag import Kkma\n",
    "import openpyxl\n",
    "\n",
    "kma = Kkma()\n",
    "#형태소 라이브러리를 kma로 칭함\n",
    "\n",
    "driver = webdriver.Chrome('C:\\chromedriver.exe')\n",
    "#selenium 라이브러리 기본 작업\n",
    "\n",
    "driver.get('https://everytime.kr/login')\n",
    "#크롤링 할 홈페이지 가져오기\n",
    "\n",
    "driver.find_element_by_name(\"userid\").send_keys(\"2geunwoo\")\n",
    "driver.find_element_by_name(\"password\").send_keys(\"kepco123\")\n",
    "driver.find_element_by_tag_name(\"input\").send_keys(Keys.RETURN)\n",
    "#로그인\n",
    "\n",
    "time.sleep(2)\n",
    "driver.find_element_by_xpath('//*[@id=\"container\"]/div[3]/div[4]/div/h3/a').click()\n",
    "\n",
    "time.sleep(4)\n",
    "elem = driver.find_element_by_name('keyword')\n",
    "elem.send_keys('논리적 사고와')\n",
    "elem.submit()\n",
    "\n",
    "time.sleep(2)\n",
    "driver.find_element_by_xpath('//*[@id=\"container\"]/div[1]/a[1]/h3/p').click()\n",
    "#강의평가 페이지로 경로 이동\n",
    "\n",
    "def page():\n",
    "    time.sleep(0.5)\n",
    "    \n",
    "    res = driver.page_source\n",
    "    soup = BeautifulSoup(res, 'html.parser')\n",
    "    data = soup.select('#container > div.side.article > div.articles > article > p.text')\n",
    "    \n",
    "    for datas in data:\n",
    "        return datas.get_text()\n",
    "\n",
    "time.sleep(1)\n",
    "\n",
    "print(kma.nouns(page()))"
   ]
  }
 ],
 "metadata": {
  "kernelspec": {
   "display_name": "Python 3",
   "language": "python",
   "name": "python3"
  },
  "language_info": {
   "codemirror_mode": {
    "name": "ipython",
    "version": 3
   },
   "file_extension": ".py",
   "mimetype": "text/x-python",
   "name": "python",
   "nbconvert_exporter": "python",
   "pygments_lexer": "ipython3",
   "version": "3.8.5"
  }
 },
 "nbformat": 4,
 "nbformat_minor": 4
}
